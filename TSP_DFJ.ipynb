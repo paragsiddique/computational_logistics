{
 "cells": [
  {
   "cell_type": "markdown",
   "id": "d59fec70",
   "metadata": {},
   "source": [
    "## Problem Description\n",
    "The TSP can be defined as follows: for a given list of cities and the distances between each pair of them, we want to find the shortest possible route that goes to each city once and returns to the origin city.\n",
    "\n",
    "There is a class of Traveling Salesman Problems that assumes that the distance of going from city $i$ to city $j$  is the same as going form city $j$ to city $i$, this type of Traveling Salesman Problem  is also known as the symmetric Traveling Salesman Problem. In this example, we use Euclidean distances, but the TSP model formulation is valid independent of the way in which the individual distances are determined.\n",
    "\n",
    "\n",
    "## TSP Model Formulation\n",
    "\n",
    "### Sets and Indices\n",
    "$i, j \\in Capitals $: indices and set of US capital cities.\n",
    "\n",
    "$\\text{Pairings}= \\{(i,j) \\in Capitals \\times Capitals \\}$: Set of allowed pairings\n",
    "\n",
    "$S \\subset Capitals$: A subset of the set of US capital cities.\n",
    "\n",
    "$G = (Capitals, Pairings)$: A graph where the set $Capitals$ defines the set of nodes and the set $Pairings$ defines the set of edges. \n",
    "\n",
    "### Parameters \n",
    "\n",
    "$d_{i, j} \\in \\mathbb{R}^+$: Distance from capital city $i$ to capital city $j$, for all $(i, j) \\in Pairings$. \n",
    "\n",
    "Notice that the distance from capital city $i$ to capital city $j$ is the same as the distance from capital city $j$ to capital city $i$, i.e. $d_{i, j} = d_{j, i}$. For this reason, this TSP is also called the symmetric Traveling Salesman Problem.\n",
    "\n",
    "### Decision Variables\n",
    "$x_{i, j} \\in \\{0, 1\\}$: This variable is equal to 1, if we decide to connect city $i$ with city $j$. Otherwise, the decision variable is equal to zero.\n",
    "\n",
    "### Objective Function\n",
    "- **Shortest Route**. Minimize the total distance of a route. A route is a sequence of capital cities where the salesperson visits each city only once and returns to the starting capital city.\n",
    "\n",
    "\\begin{equation}\n",
    "\\text{Min} \\quad Z = \\sum_{(i,j) \\in \\text{Pairings}}d_{i,j} \\cdot x_{i,j}\n",
    "\\tag{0}\n",
    "\\end{equation}\n",
    "\n",
    "### Constraints \n",
    "- **Symmetry Constraints**. For each edge $(i,j)$, ensure that the city capitals $i$ and $j$ are connected, if the former is visited immediately before or after visiting the latter.\n",
    "\n",
    "\\begin{equation}\n",
    "x_{i, j} = x_{j, i} \\quad \\forall (i, j) \\in Pairings\n",
    "\\tag{1}\n",
    "\\end{equation}\n",
    "\n",
    "- **Entering and leaving a capital city**. For each capital city $i$, ensure that this city is connected to two other cities. \n",
    "\n",
    "\\begin{equation}\n",
    "\\sum_{(i,j) \\in \\text{Pairings}}x_{i,j} = 2 \\quad \\forall  i \\in Capitals\n",
    "\\tag{2}\n",
    "\\end{equation}\n",
    "\n",
    "- **Subtour elimination**. These constraints ensure that for any subset of cities $S$ of the set of $Capitals$, there is no cycle. That is, there is no route that visits all the cities in the subset and returns to the origin city.\n",
    "\n",
    "\\begin{equation}\n",
    "\\sum_{(i \\neq j) \\in S}x_{i,j} \\leq |S|-1 \\quad \\forall  S \\subset  Capitals\n",
    "\\tag{3}\n",
    "\\end{equation}\n",
    "\n",
    "- **Remark**. In general, if the number of cities of the TSP is $n$, then the possible number of routes is n\\!.\n",
    "Since there are an exponential number of constraints ($2^{n} - 2$) to eliminate cycles, we use lazy constraints to dynamically eliminate those cycles. "
   ]
  },
  {
   "cell_type": "code",
   "execution_count": 1,
   "id": "d88b19ed",
   "metadata": {},
   "outputs": [
    {
     "data": {
      "text/plain": [
       "{'Depot': (12, 0),\n",
       " 'A': (4, 10),\n",
       " 'B': (4, 6),\n",
       " 'C': (8, 10),\n",
       " 'D': (8, 6),\n",
       " 'E': (16, 10),\n",
       " 'F': (16, 6),\n",
       " 'G': (20, 10),\n",
       " 'H': (20, 6)}"
      ]
     },
     "execution_count": 1,
     "metadata": {},
     "output_type": "execute_result"
    }
   ],
   "source": [
    "coordinates = {'Depot': (12, 0), \n",
    "               'A': (4, 10), \n",
    "               'B': (4, 6), \n",
    "               'C': (8, 10), \n",
    "               'D': (8, 6), \n",
    "               'E': (16, 10), \n",
    "               'F': (16, 6), \n",
    "               'G': (20, 10), \n",
    "               'H': (20, 6)}\n",
    "# coordinates = {'Depot': (12, 0), 'B': (4, 6), 'C': (8, 10), \n",
    "#                  'D': (8, 6), 'E': (16, 10), 'H': (20, 6)}\n",
    "coordinates"
   ]
  },
  {
   "cell_type": "code",
   "execution_count": 2,
   "id": "173ed660",
   "metadata": {},
   "outputs": [
    {
     "data": {
      "text/plain": [
       "['Depot', 'A', 'B', 'C', 'D', 'E', 'F', 'G', 'H']"
      ]
     },
     "execution_count": 2,
     "metadata": {},
     "output_type": "execute_result"
    }
   ],
   "source": [
    "capitals = list(coordinates.keys())\n",
    "capitals"
   ]
  },
  {
   "cell_type": "code",
   "execution_count": 6,
   "id": "0de0c0e9",
   "metadata": {},
   "outputs": [],
   "source": [
    "from itertools import combinations\n",
    "import numpy as np\n",
    "import math"
   ]
  },
  {
   "cell_type": "code",
   "execution_count": 7,
   "id": "cbfd794e",
   "metadata": {},
   "outputs": [],
   "source": [
    "def distance(city1, city2):\n",
    "    c1 = coordinates[city1]\n",
    "    c2 = coordinates[city2]\n",
    "    diff = (c1[0]-c2[0], c1[1]-c2[1])\n",
    "    return math.sqrt(diff[0]*diff[0]+diff[1]*diff[1])\n",
    "    #return np.abs(diff[0]) + np.abs(diff[1])\n"
   ]
  },
  {
   "cell_type": "code",
   "execution_count": 8,
   "id": "289eebed",
   "metadata": {},
   "outputs": [],
   "source": [
    "dist ={}\n",
    "for city1 in list(coordinates.keys()):\n",
    "    for city2 in list(coordinates.keys()):\n",
    "        if city1!=city2:\n",
    "            dist[(city1, city2)] = distance(city1, city2)\n",
    "    \n",
    "#dist"
   ]
  },
  {
   "cell_type": "code",
   "execution_count": 9,
   "id": "84228215",
   "metadata": {},
   "outputs": [
    {
     "name": "stdout",
     "output_type": "stream",
     "text": [
      "Academic license - for non-commercial use only - expires 2021-12-08\n",
      "Using license file C:\\Users\\parag\\gurobi.lic\n"
     ]
    }
   ],
   "source": [
    "import gurobipy as gp\n",
    "from gurobipy import GRB\n",
    "\n",
    "# tested with Python 3.7 & Gurobi 9.0.0\n",
    "\n",
    "m = gp.Model()\n",
    "\n",
    "# Variables: is city 'i' adjacent to city 'j' on the tour?\n",
    "vars = m.addVars(dist.keys(), obj=dist, vtype=GRB.BINARY, name='x')\n",
    "\n",
    "# Symmetric direction: Copy the object\n",
    "for i, j in vars.keys():\n",
    "    vars[j, i] = vars[i, j]  # edge in opposite direction\n",
    "\n",
    "# Constraints: two edges incident to each city\n",
    "cons = m.addConstrs(vars.sum(c, '*') == 2 for c in capitals)"
   ]
  },
  {
   "cell_type": "code",
   "execution_count": 10,
   "id": "a3d3f03b",
   "metadata": {},
   "outputs": [],
   "source": [
    "# Callback - use lazy constraints to eliminate sub-tours\n",
    "\n",
    "def subtourelim(model, where):\n",
    "    if where == GRB.Callback.MIPSOL:\n",
    "        # make a list of edges selected in the solution\n",
    "        vals = model.cbGetSolution(model._vars)\n",
    "        selected = gp.tuplelist((i, j) for i, j in model._vars.keys()\n",
    "                             if vals[i, j] > 0.5)\n",
    "        # find the shortest cycle in the selected edge list\n",
    "        tour = subtour(selected)\n",
    "        if len(tour) < len(capitals):\n",
    "            # add subtour elimination constr. for every pair of cities in subtour\n",
    "            model.cbLazy(gp.quicksum(model._vars[i, j] for i, j in combinations(tour, 2))\n",
    "                         <= len(tour)-1)\n",
    "\n",
    "# Given a tuplelist of edges, find the shortest subtour\n",
    "\n",
    "def subtour(edges):\n",
    "    unvisited = capitals[:]\n",
    "    cycle = capitals[:] # Dummy - guaranteed to be replaced\n",
    "    while unvisited:  # true if list is non-empty\n",
    "        thiscycle = []\n",
    "        neighbors = unvisited\n",
    "        while neighbors:\n",
    "            current = neighbors[0]\n",
    "            thiscycle.append(current)\n",
    "            unvisited.remove(current)\n",
    "            neighbors = [j for i, j in edges.select(current, '*')\n",
    "                         if j in unvisited]\n",
    "        if len(thiscycle) <= len(cycle):\n",
    "            cycle = thiscycle # New shortest subtour\n",
    "    return cycle"
   ]
  },
  {
   "cell_type": "code",
   "execution_count": 11,
   "id": "e4ff3da7",
   "metadata": {},
   "outputs": [
    {
     "name": "stdout",
     "output_type": "stream",
     "text": [
      "Changed value of parameter lazyConstraints to 1\n",
      "   Prev: 0  Min: 0  Max: 1  Default: 0\n",
      "Gurobi Optimizer version 9.1.2 build v9.1.2rc0 (win64)\n",
      "Thread count: 2 physical cores, 4 logical processors, using up to 4 threads\n",
      "Optimize a model with 9 rows, 72 columns and 72 nonzeros\n",
      "Model fingerprint: 0x7cee37fb\n",
      "Variable types: 0 continuous, 72 integer (72 binary)\n",
      "Coefficient statistics:\n",
      "  Matrix range     [1e+00, 1e+00]\n",
      "  Objective range  [4e+00, 2e+01]\n",
      "  Bounds range     [1e+00, 1e+00]\n",
      "  RHS range        [2e+00, 2e+00]\n",
      "Found heuristic solution: objective 103.4759255\n",
      "Presolve time: 0.02s\n",
      "Presolved: 9 rows, 72 columns, 72 nonzeros\n",
      "Variable types: 0 continuous, 72 integer (72 binary)\n",
      "\n",
      "Root relaxation: objective 4.407906e+01, 14 iterations, 0.01 seconds\n",
      "\n",
      "    Nodes    |    Current Node    |     Objective Bounds      |     Work\n",
      " Expl Unexpl |  Obj  Depth IntInf | Incumbent    BestBd   Gap | It/Node Time\n",
      "\n",
      "     0     0   44.07906    0    6  103.47593   44.07906  57.4%     -    0s\n",
      "H    0     0                      54.4222051   44.07906  19.0%     -    0s\n",
      "*    0     0               0      46.4222051   46.42221  0.00%     -    0s\n",
      "\n",
      "Cutting planes:\n",
      "  Gomory: 1\n",
      "  Zero half: 2\n",
      "  Lazy constraints: 2\n",
      "\n",
      "Explored 1 nodes (19 simplex iterations) in 0.09 seconds\n",
      "Thread count was 4 (of 4 available processors)\n",
      "\n",
      "Solution count 3: 46.4222 54.4222 103.476 \n",
      "\n",
      "Optimal solution found (tolerance 1.00e-04)\n",
      "Best objective 4.642220510186e+01, best bound 4.642220510186e+01, gap 0.0000%\n",
      "\n",
      "User-callback calls 70, time in user-callback 0.01 sec\n"
     ]
    }
   ],
   "source": [
    "m._vars = vars\n",
    "m.Params.lazyConstraints = 1\n",
    "m.optimize(subtourelim)"
   ]
  },
  {
   "cell_type": "code",
   "execution_count": 12,
   "id": "62604501",
   "metadata": {},
   "outputs": [],
   "source": [
    "# Retrieve solution\n",
    "\n",
    "vals = m.getAttr('x', vars)\n",
    "selected = gp.tuplelist((i, j) for i, j in vals.keys() if vals[i, j] > 0.5)\n",
    "\n",
    "tour = subtour(selected)\n",
    "assert len(tour) == len(capitals)"
   ]
  },
  {
   "cell_type": "code",
   "execution_count": 13,
   "id": "1aeb9f74",
   "metadata": {},
   "outputs": [
    {
     "name": "stdout",
     "output_type": "stream",
     "text": [
      "[('Depot', 'D'), ('Depot', 'F'), ('A', 'B'), ('A', 'C'), ('B', 'A'), ('B', 'D'), ('C', 'A'), ('C', 'E'), ('D', 'Depot'), ('D', 'B'), ('E', 'C'), ('E', 'G'), ('F', 'Depot'), ('F', 'H'), ('G', 'E'), ('G', 'H'), ('H', 'F'), ('H', 'G')]\n"
     ]
    }
   ],
   "source": [
    "active_arcs = [i for i in dist.keys() if vars[i].x> 0.9]\n",
    "print(active_arcs)"
   ]
  },
  {
   "cell_type": "code",
   "execution_count": 14,
   "id": "4f1c71bd",
   "metadata": {},
   "outputs": [],
   "source": [
    "import matplotlib.pyplot as plt"
   ]
  },
  {
   "cell_type": "code",
   "execution_count": 15,
   "id": "49a66e62",
   "metadata": {},
   "outputs": [],
   "source": [
    "X = np.array([x[0] for x in coordinates.values()])\n",
    "Y = np.array([x[1] for x in coordinates.values()])"
   ]
  },
  {
   "cell_type": "code",
   "execution_count": 16,
   "id": "0b4a08cc",
   "metadata": {},
   "outputs": [
    {
     "data": {
      "image/png": "[encoded data removed]",
      "text/plain": [
       "<Figure size 864x360 with 1 Axes>"
      ]
     },
     "metadata": {
      "needs_background": "light"
     },
     "output_type": "display_data"
    }
   ],
   "source": [
    "plt.figure(figsize=(12, 5))\n",
    "plt.scatter(X, Y, color='blue')\n",
    "  \n",
    "for n in range(len(X)):\n",
    "    plt.annotate(capitals[n], xy=(X[n], Y[n]),\n",
    "                xytext=(X[n]+0.5, Y[n]), color='red')\n",
    "    \n",
    "plt.xlabel('Distance X')\n",
    "plt.ylabel('Distance Y')\n",
    "plt.title('Solution TSP')\n",
    "\n",
    "plt.show()"
   ]
  },
  {
   "cell_type": "code",
   "execution_count": 17,
   "id": "789cbcd0",
   "metadata": {},
   "outputs": [
    {
     "data": {
      "image/png": "[encoded data removed]",
      "text/plain": [
       "<Figure size 864x360 with 1 Axes>"
      ]
     },
     "metadata": {
      "needs_background": "light"
     },
     "output_type": "display_data"
    }
   ],
   "source": [
    "plt.figure(figsize=(12,5))\n",
    "\n",
    "plt.xlabel('Distance X')\n",
    "plt.ylabel('Distance Y')\n",
    "plt.title('Solution TSP')\n",
    "\n",
    "plt.scatter(x=X, y=Y, color='blue', zorder=1)\n",
    "\n",
    "\n",
    "for city1, city2 in active_arcs:\n",
    "    plt.plot([coordinates[city1][0], coordinates[city2][0]], [coordinates[city1][1], coordinates[city2][1]]\n",
    "            , color='b', alpha=0.4, zorder=0)\n",
    "    \n",
    "# for i,j in active_arcs:\n",
    "#     plt.plot([X[i], X[j]], [Y[i], Y[j]], color='b', alpha=0.4, zorder=0)\n",
    "    \n",
    "for n in range(len(X)):\n",
    "    plt.annotate(capitals[n], xy=(X[n], Y[n]),\n",
    "                xytext=(X[n]+0.5, Y[n]), color='red')\n",
    "    \n",
    "plt.show()    "
   ]
  },
  {
   "cell_type": "code",
   "execution_count": null,
   "id": "f2033636",
   "metadata": {},
   "outputs": [],
   "source": []
  }
 ],
 "metadata": {
  "kernelspec": {
   "display_name": "Python 3",
   "language": "python",
   "name": "python3"
  },
  "language_info": {
   "codemirror_mode": {
    "name": "ipython",
    "version": 3
   },
   "file_extension": ".py",
   "mimetype": "text/x-python",
   "name": "python",
   "nbconvert_exporter": "python",
   "pygments_lexer": "ipython3",
   "version": "3.7.10"
  }
 },
 "nbformat": 4,
 "nbformat_minor": 5
}

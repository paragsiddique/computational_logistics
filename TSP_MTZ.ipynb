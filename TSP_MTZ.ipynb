{
 "cells": [
  {
   "cell_type": "markdown",
   "id": "f53a72af",
   "metadata": {},
   "source": [
    "## Problem Description\n",
    "The TSP can be defined as follows: for a given list of cities and the distances between each pair of them, we want to find the shortest possible route that goes to each city once and returns to the origin city.\n",
    "\n",
    "There is a class of Traveling Salesman Problems that assumes that the distance of going from city $i$ to city $j$  is the same as going form city $j$ to city $i$, this type of Traveling Salesman Problem  is also known as the symmetric Traveling Salesman Problem. In this example, we use Euclidean distances, but the TSP model formulation is valid independent of the way in which the individual distances are determined.\n",
    "\n",
    "\n",
    "## TSP Model Formulation\n",
    "\n",
    "### Sets and Indices\n",
    "$i, j \\in Capitals $: indices and set of US capital cities.\n",
    "\n",
    "$\\text{Pairings}= \\{(i,j) \\in Capitals \\times Capitals \\}$: Set of allowed pairings\n",
    "\n",
    "$S \\subset Capitals$: A subset of the set of US capital cities.\n",
    "\n",
    "$G = (Capitals, Pairings)$: A graph where the set $Capitals$ defines the set of nodes and the set $Pairings$ defines the set of edges. \n",
    "\n",
    "### Parameters \n",
    "\n",
    "$d_{i, j} \\in \\mathbb{R}^+$: Distance from capital city $i$ to capital city $j$, for all $(i, j) \\in Pairings$. \n",
    "\n",
    "Notice that the distance from capital city $i$ to capital city $j$ is the same as the distance from capital city $j$ to capital city $i$, i.e. $d_{i, j} = d_{j, i}$. For this reason, this TSP is also called the symmetric Traveling Salesman Problem.\n",
    "\n",
    "### Decision Variables\n",
    "$x_{i, j} \\in \\{0, 1\\}$: This variable is equal to 1, if we decide to connect city $i$ with city $j$. Otherwise, the decision variable is equal to zero.\n",
    "\n",
    "$u_{i} \\in \\mathbb{Z}$: This variable ranks a city in order of the city is visited.\n",
    "\n",
    "### Objective Function\n",
    "- **Shortest Route**. Minimize the total distance of a route. A route is a sequence of capital cities where the salesperson visits each city only once and returns to the starting capital city.\n",
    "\n",
    "\\begin{equation}\n",
    "\\text{Min} \\quad Z = \\sum_{(i,j) \\in \\text{Pairings}}d_{i,j} \\cdot x_{i,j}\n",
    "\\tag{0}\n",
    "\\end{equation}\n",
    "\n",
    "### Constraints \n",
    "\n",
    "- **Entering a capital city**. For each capital city $i$, ensure that this city is entered once. \n",
    "\n",
    "\\begin{equation}\n",
    "\\sum_{i \\in Capitals}x_{i,j} = 1 \\quad \\forall  j \\in Capitals \\quad i \\neq j\n",
    "\\tag{1}\n",
    "\\end{equation}\n",
    "\n",
    "- **Leaving a capital city**. For each capital city $i$, ensure that this city is exited once. \n",
    "\n",
    "\\begin{equation}\n",
    "\\sum_{j \\in Capitals}x_{i,j} = 1 \\quad \\forall  i \\in Capitals \\quad i \\neq j\n",
    "\\tag{2}\n",
    "\\end{equation}\n",
    "\n",
    "- **Subtour elimination**. These constraints ensure that for any subset of cities $S$ of the set of $Capitals$, there is no cycle. That is, there is no route that visits all the cities in the subset and returns to the origin city.\n",
    "\n",
    "\\begin{equation}\n",
    "x_{i,j} = 1 \\Rightarrow \\quad u_{i} + 1 = u_{j} \\quad \\forall (i, j) \\in Pairings\n",
    "\\tag{3}\n",
    "\\end{equation}\n",
    "\n",
    "- **Remark**. In general, if the number of cities of the TSP is $n$, then the possible number of routes is n\\!.\n"
   ]
  },
  {
   "cell_type": "code",
   "execution_count": 1,
   "id": "a2be2f39",
   "metadata": {},
   "outputs": [],
   "source": [
    "from gurobipy import *\n",
    "import numpy as np\n",
    "from itertools import combinations\n",
    "import matplotlib.pyplot as plt\n",
    "import math"
   ]
  },
  {
   "cell_type": "code",
   "execution_count": 2,
   "id": "ce17ed7e",
   "metadata": {},
   "outputs": [
    {
     "data": {
      "text/plain": [
       "{'Depot': (12, 0),\n",
       " 'A': (4, 10),\n",
       " 'B': (4, 6),\n",
       " 'C': (8, 10),\n",
       " 'D': (8, 6),\n",
       " 'E': (16, 10),\n",
       " 'F': (16, 6),\n",
       " 'G': (20, 10),\n",
       " 'H': (20, 6)}"
      ]
     },
     "execution_count": 2,
     "metadata": {},
     "output_type": "execute_result"
    }
   ],
   "source": [
    "coordinates = {'Depot': (12, 0), 'A': (4, 10), 'B': (4, 6), 'C': (8, 10), \n",
    "                 'D': (8, 6), 'E': (16, 10), 'F': (16, 6), 'G': (20, 10), 'H': (20, 6)}\n",
    "# coordinates = {'Depot': (12, 0), 'B': (4, 6), 'C': (8, 10), \n",
    "#                  'D': (8, 6), 'E': (16, 10), 'H': (20, 6)}\n",
    "coordinates"
   ]
  },
  {
   "cell_type": "code",
   "execution_count": 3,
   "id": "591935a9",
   "metadata": {},
   "outputs": [],
   "source": [
    "capitals = list(coordinates.keys())"
   ]
  },
  {
   "cell_type": "code",
   "execution_count": 4,
   "id": "673dd98c",
   "metadata": {},
   "outputs": [],
   "source": [
    "X = np.array([x[0] for x in coordinates.values()])\n",
    "Y = np.array([x[1] for x in coordinates.values()])"
   ]
  },
  {
   "cell_type": "code",
   "execution_count": 5,
   "id": "19e2f698",
   "metadata": {},
   "outputs": [
    {
     "data": {
      "text/plain": [
       "[0, 1, 2, 3, 4, 5, 6, 7, 8]"
      ]
     },
     "execution_count": 5,
     "metadata": {},
     "output_type": "execute_result"
    }
   ],
   "source": [
    "n = len(coordinates)\n",
    "nodes = [i for i in range(n)]\n",
    "nodes"
   ]
  },
  {
   "cell_type": "code",
   "execution_count": 6,
   "id": "3c126324",
   "metadata": {},
   "outputs": [
    {
     "data": {
      "image/png": "[encoded data removed]",
      "text/plain": [
       "<Figure size 864x360 with 1 Axes>"
      ]
     },
     "metadata": {
      "needs_background": "light"
     },
     "output_type": "display_data"
    }
   ],
   "source": [
    "plt.figure(figsize=(12, 5))\n",
    "plt.scatter(X, Y, color='blue')\n",
    "  \n",
    "for n in range(len(X)):\n",
    "    plt.annotate(capitals[n], xy=(X[n], Y[n]),\n",
    "                xytext=(X[n]+0.5, Y[n]), color='red')\n",
    "    \n",
    "# for n in range(len(X)):\n",
    "#     plt.annotate(str(n), xy=(X[n], Y[n]),\n",
    "#                 xytext=(X[n]+0.5, Y[n]), color='red')\n",
    "    \n",
    "plt.xlabel('Distance X')\n",
    "plt.ylabel('Distance Y')\n",
    "plt.title('Solution TSP')\n",
    "\n",
    "plt.show()"
   ]
  },
  {
   "cell_type": "code",
   "execution_count": 7,
   "id": "392b3f2c",
   "metadata": {},
   "outputs": [],
   "source": [
    "# Compute pairwise distance matrix\n",
    "\n",
    "def compute_distance(c1, c2):\n",
    "    #c1 = coordinates[city1]\n",
    "    #c2 = coordinates[city2]\n",
    "    diff = (c1[0]-c2[0], c1[1]-c2[1])\n",
    "    return math.sqrt(diff[0]*diff[0]+diff[1]*diff[1])\n",
    "    #return np.abs(diff[0]) + np.abs(diff[1])"
   ]
  },
  {
   "cell_type": "code",
   "execution_count": 8,
   "id": "fbc4fd80",
   "metadata": {},
   "outputs": [
    {
     "name": "stdout",
     "output_type": "stream",
     "text": [
      "{(0, 1): 12.806248474865697, (0, 2): 10.0, (0, 3): 10.770329614269007, (0, 4): 7.211102550927978, (0, 5): 10.770329614269007, (0, 6): 7.211102550927978, (0, 7): 12.806248474865697, (0, 8): 10.0, (1, 0): 12.806248474865697, (1, 2): 4.0, (1, 3): 4.0, (1, 4): 5.656854249492381, (1, 5): 12.0, (1, 6): 12.649110640673518, (1, 7): 16.0, (1, 8): 16.492422502470642, (2, 0): 10.0, (2, 1): 4.0, (2, 3): 5.656854249492381, (2, 4): 4.0, (2, 5): 12.649110640673518, (2, 6): 12.0, (2, 7): 16.492422502470642, (2, 8): 16.0, (3, 0): 10.770329614269007, (3, 1): 4.0, (3, 2): 5.656854249492381, (3, 4): 4.0, (3, 5): 8.0, (3, 6): 8.94427190999916, (3, 7): 12.0, (3, 8): 12.649110640673518, (4, 0): 7.211102550927978, (4, 1): 5.656854249492381, (4, 2): 4.0, (4, 3): 4.0, (4, 5): 8.94427190999916, (4, 6): 8.0, (4, 7): 12.649110640673518, (4, 8): 12.0, (5, 0): 10.770329614269007, (5, 1): 12.0, (5, 2): 12.649110640673518, (5, 3): 8.0, (5, 4): 8.94427190999916, (5, 6): 4.0, (5, 7): 4.0, (5, 8): 5.656854249492381, (6, 0): 7.211102550927978, (6, 1): 12.649110640673518, (6, 2): 12.0, (6, 3): 8.94427190999916, (6, 4): 8.0, (6, 5): 4.0, (6, 7): 5.656854249492381, (6, 8): 4.0, (7, 0): 12.806248474865697, (7, 1): 16.0, (7, 2): 16.492422502470642, (7, 3): 12.0, (7, 4): 12.649110640673518, (7, 5): 4.0, (7, 6): 5.656854249492381, (7, 8): 4.0, (8, 0): 10.0, (8, 1): 16.492422502470642, (8, 2): 16.0, (8, 3): 12.649110640673518, (8, 4): 12.0, (8, 5): 5.656854249492381, (8, 6): 4.0, (8, 7): 4.0}\n"
     ]
    }
   ],
   "source": [
    "distance = {(i, j): compute_distance(list(coordinates.values())[i], list(coordinates.values())[j])\n",
    "            for i in nodes for j in nodes if i!=j}\n",
    "print(distance)"
   ]
  },
  {
   "cell_type": "code",
   "execution_count": 9,
   "id": "6ae09e01",
   "metadata": {},
   "outputs": [
    {
     "name": "stdout",
     "output_type": "stream",
     "text": [
      "[(0, 1), (0, 2), (0, 3), (0, 4), (0, 5), (0, 6), (0, 7), (0, 8), (1, 0), (1, 2), (1, 3), (1, 4), (1, 5), (1, 6), (1, 7), (1, 8), (2, 0), (2, 1), (2, 3), (2, 4), (2, 5), (2, 6), (2, 7), (2, 8), (3, 0), (3, 1), (3, 2), (3, 4), (3, 5), (3, 6), (3, 7), (3, 8), (4, 0), (4, 1), (4, 2), (4, 3), (4, 5), (4, 6), (4, 7), (4, 8), (5, 0), (5, 1), (5, 2), (5, 3), (5, 4), (5, 6), (5, 7), (5, 8), (6, 0), (6, 1), (6, 2), (6, 3), (6, 4), (6, 5), (6, 7), (6, 8), (7, 0), (7, 1), (7, 2), (7, 3), (7, 4), (7, 5), (7, 6), (7, 8), (8, 0), (8, 1), (8, 2), (8, 3), (8, 4), (8, 5), (8, 6), (8, 7)]\n"
     ]
    }
   ],
   "source": [
    "arcs = [(i, j) for i in nodes for j in nodes if i!=j]\n",
    "print(arcs)"
   ]
  },
  {
   "cell_type": "code",
   "execution_count": 10,
   "id": "d84a8e2b",
   "metadata": {},
   "outputs": [
    {
     "name": "stdout",
     "output_type": "stream",
     "text": [
      "Academic license - for non-commercial use only - expires 2021-12-08\n",
      "Using license file C:\\Users\\parag\\gurobi.lic\n",
      "Gurobi Optimizer version 9.1.2 build v9.1.2rc0 (win64)\n",
      "Thread count: 2 physical cores, 4 logical processors, using up to 4 threads\n",
      "Optimize a model with 18 rows, 81 columns and 144 nonzeros\n",
      "Model fingerprint: 0xd9f8ca2d\n",
      "Model has 64 general constraints\n",
      "Variable types: 9 continuous, 72 integer (72 binary)\n",
      "Coefficient statistics:\n",
      "  Matrix range     [1e+00, 1e+00]\n",
      "  Objective range  [4e+00, 2e+01]\n",
      "  Bounds range     [1e+00, 1e+00]\n",
      "  RHS range        [1e+00, 1e+00]\n",
      "Presolve added 64 rows and 64 columns\n",
      "Presolve time: 0.00s\n",
      "Presolved: 82 rows, 145 columns, 308 nonzeros\n",
      "Presolved model has 64 SOS constraint(s)\n",
      "Variable types: 73 continuous, 72 integer (72 binary)\n",
      "\n",
      "Root relaxation: objective 4.407906e+01, 18 iterations, 0.00 seconds\n",
      "\n",
      "    Nodes    |    Current Node    |     Objective Bounds      |     Work\n",
      " Expl Unexpl |  Obj  Depth IntInf | Incumbent    BestBd   Gap | It/Node Time\n",
      "\n",
      "     0     0   44.07906    0    8          -   44.07906      -     -    0s\n",
      "     0     0   44.07906    0    8          -   44.07906      -     -    0s\n",
      "     0     2   44.07906    0    8          -   44.07906      -     -    0s\n",
      "H   18    20                      46.4222051   44.07906  5.05%   1.1    0s\n",
      "\n",
      "Explored 91 nodes (93 simplex iterations) in 0.07 seconds\n",
      "Thread count was 4 (of 4 available processors)\n",
      "\n",
      "Solution count 1: 46.4222 \n",
      "\n",
      "Optimal solution found (tolerance 1.00e-04)\n",
      "Best objective 4.642220510186e+01, best bound 4.642220510186e+01, gap 0.0000%\n",
      "Wall time: 94.7 ms\n"
     ]
    }
   ],
   "source": [
    "%%time\n",
    "pjs_model = Model('TSP')\n",
    "\n",
    "x_ij = pjs_model.addVars(arcs, vtype=GRB.BINARY, name='x')\n",
    "u_ij = pjs_model.addVars(nodes, vtype=GRB.CONTINUOUS, name='U')\n",
    "\n",
    "pjs_model.setObjective(quicksum(distance[arc]*x_ij[arc] for arc in arcs), GRB.MINIMIZE)\n",
    "\n",
    "pjs_model.addConstrs(quicksum(x_ij[i, j] for j in nodes if j!=i)==1 for i in nodes)\n",
    "pjs_model.addConstrs(quicksum(x_ij[i, j] for i in nodes if j!=i)==1 for j in nodes)\n",
    "\n",
    "pjs_model.addConstrs((x_ij[i, j]==1) >> (u_ij[i]+1==u_ij[j]) for i, j in arcs if j!=0)\n",
    "\n",
    "pjs_model.optimize()"
   ]
  },
  {
   "cell_type": "code",
   "execution_count": 11,
   "id": "59ba9cbe",
   "metadata": {},
   "outputs": [
    {
     "name": "stdout",
     "output_type": "stream",
     "text": [
      "[(0, 6), (1, 2), (2, 4), (3, 1), (4, 0), (5, 3), (6, 8), (7, 5), (8, 7)]\n"
     ]
    }
   ],
   "source": [
    "active_arcs = [i for i in arcs if x_ij[i].x> 0.9]\n",
    "print(active_arcs)"
   ]
  },
  {
   "cell_type": "code",
   "execution_count": 12,
   "id": "31e1497d",
   "metadata": {},
   "outputs": [
    {
     "data": {
      "image/png": "[encoded data removed]",
      "text/plain": [
       "<Figure size 864x360 with 1 Axes>"
      ]
     },
     "metadata": {
      "needs_background": "light"
     },
     "output_type": "display_data"
    }
   ],
   "source": [
    "plt.figure(figsize=(12,5))\n",
    "\n",
    "plt.xlabel('Distance X')\n",
    "plt.ylabel('Distance Y')\n",
    "plt.title('Solution TSP')\n",
    "\n",
    "plt.scatter(x=X, y=Y, color='blue', zorder=1)\n",
    "\n",
    "for i,j in active_arcs:\n",
    "    plt.plot([X[i], X[j]], [Y[i], Y[j]], color='b', alpha=0.4, zorder=0)\n",
    "    \n",
    "for n in range(len(X)):\n",
    "    plt.annotate(capitals[n], xy=(X[n], Y[n]),\n",
    "                xytext=(X[n]+0.5, Y[n]), color='red')\n",
    "    \n",
    "plt.show()    "
   ]
  },
  {
   "cell_type": "markdown",
   "id": "9dbac358",
   "metadata": {},
   "source": [
    "# Useful links\n",
    "\n",
    "https://www.youtube.com/watch?v=-m7ASCB0a8E&t=615s\n",
    "\n",
    "https://www.youtube.com/watch?v=2maj3OG2feE\n",
    "\n",
    "https://medium.com/swlh/techniques-for-subtour-elimination-in-traveling-salesman-problem-theory-and-implementation-in-71942e0baf0c"
   ]
  }
 ],
 "metadata": {
  "kernelspec": {
   "display_name": "Python 3",
   "language": "python",
   "name": "python3"
  },
  "language_info": {
   "codemirror_mode": {
    "name": "ipython",
    "version": 3
   },
   "file_extension": ".py",
   "mimetype": "text/x-python",
   "name": "python",
   "nbconvert_exporter": "python",
   "pygments_lexer": "ipython3",
   "version": "3.7.10"
  }
 },
 "nbformat": 4,
 "nbformat_minor": 5
}
